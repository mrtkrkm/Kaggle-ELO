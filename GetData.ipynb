{
 "cells": [
  {
   "cell_type": "code",
   "execution_count": 1,
   "metadata": {
    "_cell_guid": "b1076dfc-b9ad-4769-8c92-a6c4dae69d19",
    "_uuid": "8f2839f25d086af736a60e9eeb907d3b93b6e0e5"
   },
   "outputs": [],
   "source": [
    "import numpy as np\n",
    "import pandas as pd\n",
    "import datetime\n",
    "import gc\n",
    "import matplotlib.pyplot as plt\n",
    "import seaborn as sns\n",
    "import lightgbm as lgb\n",
    "from sklearn.model_selection import StratifiedKFold, KFold, TimeSeriesSplit\n",
    "from sklearn.metrics import mean_squared_error\n",
    "import warnings\n",
    "import tqdm\n",
    "warnings.filterwarnings('ignore')\n",
    "\n"
   ]
  },
  {
   "cell_type": "code",
   "execution_count": 2,
   "metadata": {
    "_uuid": "27ba436a3193ad829bb771c0d3d5048c3deb696c"
   },
   "outputs": [],
   "source": [
    "def reduce_mem_usage(df, verbose=True):\n",
    "    numerics = ['int16', 'int32', 'int64', 'float16', 'float32', 'float64']\n",
    "    start_mem = df.memory_usage().sum() / 1024**2    \n",
    "    for col in df.columns:\n",
    "        col_type = df[col].dtypes\n",
    "        if col_type in numerics:\n",
    "            c_min = df[col].min()\n",
    "            c_max = df[col].max()\n",
    "            if str(col_type)[:3] == 'int':\n",
    "                if c_min > np.iinfo(np.int8).min and c_max < np.iinfo(np.int8).max:\n",
    "                    df[col] = df[col].astype(np.int8)\n",
    "                elif c_min > np.iinfo(np.int16).min and c_max < np.iinfo(np.int16).max:\n",
    "                    df[col] = df[col].astype(np.int16)\n",
    "                elif c_min > np.iinfo(np.int32).min and c_max < np.iinfo(np.int32).max:\n",
    "                    df[col] = df[col].astype(np.int32)\n",
    "                elif c_min > np.iinfo(np.int64).min and c_max < np.iinfo(np.int64).max:\n",
    "                    df[col] = df[col].astype(np.int64)  \n",
    "            else:\n",
    "                if c_min > np.finfo(np.float16).min and c_max < np.finfo(np.float16).max:\n",
    "                    df[col] = df[col].astype(np.float16)\n",
    "                elif c_min > np.finfo(np.float32).min and c_max < np.finfo(np.float32).max:\n",
    "                    df[col] = df[col].astype(np.float32)\n",
    "                else:\n",
    "                    df[col] = df[col].astype(np.float64)    \n",
    "    end_mem = df.memory_usage().sum() / 1024**2\n",
    "    if verbose: print('Mem. usage decreased to {:5.2f} Mb ({:.1f}% reduction)'.format(end_mem, 100 * (start_mem - end_mem) / start_mem))\n",
    "    return df\n"
   ]
  },
  {
   "cell_type": "code",
   "execution_count": 3,
   "metadata": {
    "_uuid": "64a4f3384757025e97bd974082c24cd6d781206e"
   },
   "outputs": [
    {
     "name": "stdout",
     "output_type": "stream",
     "text": [
      "Mem. usage decreased to  4.04 Mb (56.2% reduction)\n",
      "Mem. usage decreased to  2.24 Mb (52.5% reduction)\n",
      "Mem. usage decreased to 1749.11 Mb (43.7% reduction)\n",
      "Mem. usage decreased to 114.20 Mb (45.5% reduction)\n"
     ]
    }
   ],
   "source": [
    "df_train = reduce_mem_usage(pd.read_csv('../input/train.csv',parse_dates=[\"first_active_month\"]))\n",
    "df_test = reduce_mem_usage(pd.read_csv('../input/test.csv',parse_dates=[\"first_active_month\"]))\n",
    "df_hist_trans = reduce_mem_usage(pd.read_csv('../input/historical_transactions.csv'))\n",
    "df_new_merchant_trans = reduce_mem_usage(pd.read_csv('../input/new_merchant_transactions.csv'))\n"
   ]
  },
  {
   "cell_type": "code",
   "execution_count": 4,
   "metadata": {
    "_uuid": "cdd8ac30e4cf80b02718e5c47654cb9090f98ae3"
   },
   "outputs": [],
   "source": [
    "for df in [df_hist_trans,df_new_merchant_trans]:\n",
    "    df['category_2'].fillna(1.0,inplace=True)\n",
    "    df['category_3'].fillna('A',inplace=True)\n",
    "    df['merchant_id'].fillna('M_ID_00a6ca8a8a',inplace=True)"
   ]
  },
  {
   "cell_type": "code",
   "execution_count": 5,
   "metadata": {
    "_uuid": "fac9ea1306acb9197cf62b3c957faf907c478958"
   },
   "outputs": [],
   "source": [
    "i=0\n",
    "labels=[0, 1, 2, 3]\n",
    "bins=[0, 3, 6, 9, 12]\n",
    "day_bins=[0,10,20,30]\n",
    "day_labels=[0,1,2]\n",
    "install_bins=[-1, 3, 6, 999]\n",
    "install_labels=[0, 1, 2]\n",
    "month_bins=[-13,-10,-6,-3,0]\n",
    "month_labels=[0,1,2,3]\n",
    "q_list=[0, .25, .5, .75, 1.]\n",
    "q_labels=[0,1,2,3]\n",
    "dat_day=pd.to_datetime(pd.Series(['2019-02-26']))\n",
    "\n",
    "def fe_for_transactions(df,i):\n",
    "    df['purchase_date'] = pd.to_datetime(df['purchase_date'])\n",
    "    df.sort_values(by='purchase_date', inplace=True)\n",
    "    special=pd.to_datetime(pd.Series(['2018-02-14','2017-02-14','2018-01-01','2017-12-25']))\n",
    "    if i==1:\n",
    "        df['val_day']=(df['purchase_date']-special[0]).dt.days.apply(lambda x:1 if x<1 and x>-100 else 0)\n",
    "    if i==0:\n",
    "        df['val_day']=(df['purchase_date']-special[1]).dt.days.apply(lambda x:1 if x<1 and x>-100 else 0)\n",
    "        df['val_day_2018']=(df['purchase_date']-special[0]).dt.days.apply(lambda x:1 if x<1 and x>-100 else 0)\n",
    "    df['new_year']=(df['purchase_date']-special[2]).dt.days.apply(lambda x:1 if x<1 and x>-100 else 0)\n",
    "    df['christmas_day']=(df['purchase_date']-special[3]).dt.days.apply(lambda x:1 if x<1 and x>-100 else 0)\n",
    "    df['year'] = df['purchase_date'].dt.year\n",
    "    #df['quarter']=df['purchase_date'].dt.quarter\n",
    "    df['weekofyear'] = df['purchase_date'].dt.weekofyear\n",
    "    df['month'] = df['purchase_date'].dt.month\n",
    "    df['dayofweek'] = df['purchase_date'].dt.dayofweek\n",
    "    df['day']=df['purchase_date'].dt.day\n",
    "    df['weekend'] = (df.purchase_date.dt.weekday >=5).astype(int)\n",
    "    df['hour'] = df['purchase_date'].dt.hour\n",
    "    df['authorized_flag'] = df['authorized_flag'].map({'Y':1, 'N':0})\n",
    "    df['category_1'] = df['category_1'].map({'Y':1, 'N':0})\n",
    "    df['category_3'] = df['category_3'].map({'A':0, 'B':1, 'C':2})\n",
    "    #https://www.kaggle.com/c/elo-merchant-category-recommendation/discussion/73244\n",
    "    df['month_diff'] = ((dat_day[0]- df['purchase_date']).dt.days)//30\n",
    "    df['month_diff'] += df['month_lag']\n",
    "    df['season']=(pd.cut(df['month'], bins=bins, labels=labels)).cat.codes\n",
    "    df['3div_day']=(pd.cut(df['day'], bins=day_bins, labels=day_labels)).cat.codes\n",
    "    #df['is_install']=df['installments'].apply(lambda x: 0 if x==0 else 1)\n",
    "    #df['install_period']=(pd.cut(df['installments'], bins=install_bins, labels=install_labels)).cat.codes\n",
    "    df['month_lag_period']=(pd.cut(df['month_lag'], bins=month_bins, labels=month_labels)).cat.codes\n",
    "    df['time_differ'] = df.groupby(['card_id'])['purchase_date'].agg(['diff']).astype('timedelta64[h]')\n",
    "    #df['time_differ']=np.log1p((df['purchase_date'].shift(-1)-df['purchase_date'])/np.timedelta64(1,'h'))\n",
    "    #df['state_count']=df.groupby('state_id')['card_id'].transform('count')\n",
    "    #df['duration'] = df['purchase_amount']*df['month_diff']\n",
    "    #df['amount_month_ratio'] = df['purchase_amount']/df['month_diff']\n",
    "    #df['subsector_count']=df.groupby('subsector_id')['card_id'].transform('count')\n",
    "    #df['amount_quantile']=(pd.qcut(df['purchase_amount'], q=q_list, labels=q_labels)).cat.codes\n",
    "#     df['cat1_count']=df.groupby('category_1')['card_id'].transform('count')\n",
    "#     df['cat2_count']=df.groupby('category_2')['card_id'].transform('count')\n",
    "#     df['cat3_count']=df.groupby('category_3')['card_id'].transform('count')\n",
    "    return df"
   ]
  },
  {
   "cell_type": "code",
   "execution_count": 6,
   "metadata": {
    "_cell_guid": "79c7e3d0-c299-4dcb-8224-4455121ee9b0",
    "_uuid": "d629ff2d2480ee46fbb7e2d37f6b5fab8052498a"
   },
   "outputs": [],
   "source": [
    "df_hist_trans=fe_for_transactions(df_hist_trans,0)\n",
    "df_new_merchant_trans=fe_for_transactions(df_new_merchant_trans, 1)"
   ]
  },
  {
   "cell_type": "code",
   "execution_count": 7,
   "metadata": {
    "_uuid": "9b50f6515a1c74cfb82e2db30aae9ec15078376f"
   },
   "outputs": [
    {
     "data": {
      "text/plain": [
       "21"
      ]
     },
     "execution_count": 7,
     "metadata": {},
     "output_type": "execute_result"
    }
   ],
   "source": [
    "gc.collect()"
   ]
  },
  {
   "cell_type": "code",
   "execution_count": 8,
   "metadata": {
    "_uuid": "5719ffcaf3a23abb145608b4d2e6a646210c6e82"
   },
   "outputs": [],
   "source": [
    "aggs= {\n",
    "    'df_hist_trans':\n",
    "       {\n",
    "           'purchase_amount':['max','min','mean','sum','var','median'],\n",
    "           'installments':['max','min','sum','mean','std'],\n",
    "           'purchase_date':['max', 'min'],\n",
    "           'month_lag': ['max','min','mean','var'],\n",
    "           'month_diff':['mean','std'],\n",
    "           'authorized_flag':['sum','mean'],\n",
    "           'weekend':['sum', 'mean'],\n",
    "           'category_1':['sum', 'mean'],\n",
    "           'category_3':['sum','mean'],\n",
    "           'category_2':['sum','mean'],\n",
    "           'card_id':['size'],\n",
    "           'val_day':['mean'],\n",
    "           #'new_year':['sum','mean'],\n",
    "           'christmas_day':['sum','mean'],\n",
    "           'val_day_2018':['sum','mean'],\n",
    "           'season':['sum','mean','nunique'],\n",
    "           '3div_day':['sum','mean'],\n",
    "           'day':['mean','median'],\n",
    "           'month_lag_period':['sum','mean'],\n",
    "           #'install_period':['sum','mean'],\n",
    "           #'is_install':['sum','mean'],\n",
    "           'time_differ':['max','min','mean'],\n",
    "           'month':['nunique','mean'],\n",
    "           'hour':['nunique','mean'],\n",
    "           'weekofyear':['nunique','mean'],\n",
    "           'dayofweek':['nunique','mean'],\n",
    "           #'subsector_id':['nunique'],\n",
    "           'merchant_id':['nunique'],\n",
    "           'merchant_category_id':['nunique'],\n",
    "           #'city_id':['nunique'],\n",
    "           'category_2_mean':['mean'],\n",
    "           'category_3_mean':['mean'],\n",
    "           #'state_count':['max','min','mean'],\n",
    "           #'quarter':['mean','nunique'],\n",
    "           #'amount_month_ratio':['mean','min','max','var'],\n",
    "           #'duration':['mean','min','max','var']\n",
    "           #'amount_quantile':['mean','sum']\n",
    "       },\n",
    "       'df_new_merchant_trans':\n",
    "    {\n",
    "           'purchase_amount':['max','min','mean','sum','var','median'],\n",
    "           'installments':['max','min','sum','mean','std'],\n",
    "           'purchase_date':['max', 'min'],\n",
    "           'month_lag': ['max','min','mean','var'],\n",
    "           'month_diff':['mean','std'],\n",
    "           'authorized_flag':['sum','mean'],\n",
    "           'weekend':['sum', 'mean'],\n",
    "           'category_1':['sum', 'mean'],\n",
    "           'category_3':['sum','mean'],\n",
    "           'category_2':['sum','mean'],\n",
    "           'card_id':['size'],\n",
    "           'val_day':['mean'],\n",
    "           'new_year':['sum','mean'],\n",
    "           'christmas_day':['sum','mean'],\n",
    "           'season':['sum','mean','nunique'],\n",
    "           '3div_day':['sum','mean'],\n",
    "           'day':['mean','median'],\n",
    "           'month_lag_period':['sum','mean'],\n",
    "           #'install_period':['sum','mean'],\n",
    "           #'is_install':['sum','mean'],\n",
    "           'time_differ':['max','min','mean'],\n",
    "            'month':['nunique','mean'],\n",
    "           'hour':['nunique','mean'],\n",
    "           'weekofyear':['nunique','mean'],\n",
    "           'dayofweek':['nunique','mean'],\n",
    "           #'subsector_id':['nunique'],\n",
    "           'merchant_id':['nunique'],\n",
    "           'merchant_category_id':['nunique'],\n",
    "           #'city_id':['nunique'],\n",
    "           'category_2_mean':['mean'],\n",
    "           'category_3_mean':['mean'],\n",
    "           #'state_count':['max','min','mean'],\n",
    "           #'quarter':['mean','nunique'],\n",
    "           #'amount_month_ratio':['mean','min','max','var'],\n",
    "           #'duration':['mean','min','max','var']\n",
    "           #'amount_quantile':['mean','sum']\n",
    "    }\n",
    "    \n",
    "}"
   ]
  },
  {
   "cell_type": "code",
   "execution_count": 9,
   "metadata": {
    "_uuid": "892ca1b8a61df8ff157c5a230e1bcda3093e2fae"
   },
   "outputs": [],
   "source": [
    "def get_names(dic, name):\n",
    "    cols=[name+'_'+k+'_'+i for k in dic.keys() for i in dic[k]]\n",
    "    return cols"
   ]
  },
  {
   "cell_type": "code",
   "execution_count": 10,
   "metadata": {
    "_uuid": "9330f7b654ca9629b2547fdd5b90a251c0939e24"
   },
   "outputs": [],
   "source": [
    "def before_agg(df):\n",
    "    for col in ['category_2','category_3']:\n",
    "        df[col+'_mean'] = df.groupby([col])['purchase_amount'].transform('mean')\n",
    "    return df\n",
    "\n",
    "def after_agg(df,name):\n",
    "    df[name+'_purchase_date_diff'] = (df[name+'_purchase_date_max'] - df[name+'_purchase_date_min']).dt.days\n",
    "    df[name+'_purchase_date_average'] = df[name+'_purchase_date_diff']/df[name+'_card_id_size']\n",
    "    df[name+'_purchase_date_uptonow'] = (dat_day[0] - df[name+'_purchase_date_max']).dt.days\n",
    "    df[name+'_time_differ_diff']=(df[name+'_time_differ_max']-df[name+'_time_differ_min'])\n",
    "    #df[name+'_state_c_differ']=(df[name+'_state_count_max']-df[name+'_state_count_min'])\n",
    "#     df[name+'_season_diff']=(df[name+'_season_max']-df[name+'_season_min'])\n",
    "#     df[name+'_3div_day_diff']=(df[name+'_3div_day_max']-df[name+'_3div_day_min'])\n",
    "    #df[name+'_install_period_diff']=(df[name+'_install_period_max']-df[name+'_install_period_min'])\n",
    "    return df"
   ]
  },
  {
   "cell_type": "code",
   "execution_count": 11,
   "metadata": {
    "_uuid": "b734b0cb3233a37d1fe88c8ab74d5d50b2aa72e5"
   },
   "outputs": [],
   "source": [
    "df_hist_trans=before_agg(df_hist_trans)\n",
    "df_hist_group=df_hist_trans.groupby('card_id').agg(aggs['df_hist_trans'])\n",
    "df_hist_group.columns=get_names(aggs['df_hist_trans'],'hist')\n",
    "df_hist_group.reset_index(drop=False,inplace=True)\n",
    "\n",
    "df_hist_group=after_agg(df_hist_group,'hist')\n",
    "\n",
    "df_train = df_train.merge(df_hist_group,on='card_id',how='left')\n",
    "df_test = df_test.merge(df_hist_group,on='card_id',how='left')\n"
   ]
  },
  {
   "cell_type": "code",
   "execution_count": 12,
   "metadata": {
    "_uuid": "3100e40454730e856e0b70bf67af7fc0a0013f97"
   },
   "outputs": [],
   "source": [
    "df_new_merchant_trans=before_agg(df_new_merchant_trans)\n",
    "df_new_merc_group=df_new_merchant_trans.groupby('card_id').agg(aggs['df_new_merchant_trans'])\n",
    "df_new_merc_group.columns=get_names(aggs['df_new_merchant_trans'],'new_hist')\n",
    "df_new_merc_group.reset_index(drop=False,inplace=True)\n",
    "\n",
    "df_new_merc_group=after_agg(df_new_merc_group,'new_hist')\n",
    "\n",
    "df_train = df_train.merge(df_new_merc_group,on='card_id',how='left')\n",
    "df_test = df_test.merge(df_new_merc_group,on='card_id',how='left')"
   ]
  },
  {
   "cell_type": "code",
   "execution_count": 13,
   "metadata": {
    "_uuid": "b5e06fc2bec33e0b9861f6d82a4adeca53f40e0a"
   },
   "outputs": [
    {
     "data": {
      "text/plain": [
       "0    199710\n",
       "1      2207\n",
       "Name: outliers, dtype: int64"
      ]
     },
     "execution_count": 13,
     "metadata": {},
     "output_type": "execute_result"
    }
   ],
   "source": [
    "df_train['outliers'] = 0\n",
    "df_train.loc[df_train['target'] < -30, 'outliers'] = 1\n",
    "df_train['outliers'].value_counts()"
   ]
  },
  {
   "cell_type": "code",
   "execution_count": 14,
   "metadata": {
    "_uuid": "cc383575c22e73f90f7b2be2f9ab0510a8351007"
   },
   "outputs": [],
   "source": [
    "def train_feats(df):\n",
    "    df['first_active_month'] = pd.to_datetime(df['first_active_month'])\n",
    "    df['dayofweek'] = df['first_active_month'].dt.dayofweek\n",
    "    df['weekofyear'] = df['first_active_month'].dt.weekofyear\n",
    "    df['month'] = df['first_active_month'].dt.month\n",
    "    df['elapsed_time'] = (dat_day[0] - df['first_active_month']).dt.days\n",
    "    df['hist_last_buy_dff']=(dat_day[0]-df['hist_purchase_date_max']).dt.days\n",
    "    df['new_hist_last_buy_dff']=(dat_day[0]-df['new_hist_purchase_date_max']).dt.days\n",
    "    df['hist_first_buy'] = (df['hist_purchase_date_min'] - df['first_active_month']).dt.days\n",
    "    df['new_hist_first_buy'] = (df['new_hist_purchase_date_min'] - df['first_active_month']).dt.days\n",
    "    for f in ['hist_purchase_date_max','hist_purchase_date_min','new_hist_purchase_date_max',\\\n",
    "                     'new_hist_purchase_date_min']:\n",
    "        df[f] = df[f].astype(np.int64) * 1e-9\n",
    "    df['card_id_total'] = df['new_hist_card_id_size']+df['hist_card_id_size']\n",
    "    df['purchase_amount_total'] = df['new_hist_purchase_amount_sum']+df['hist_purchase_amount_sum']\n",
    "#     df['day_usage_mean']=df['card_id_total']/df['elapsed_time']\n",
    "#     df['total_size'] = df['new_hist_card_id_size']+df['hist_purchase_amount_sum']\n",
    "    return df"
   ]
  },
  {
   "cell_type": "code",
   "execution_count": 15,
   "metadata": {
    "_uuid": "24d1ed4af66873d8163c36e4cb64ec424a927bcf"
   },
   "outputs": [],
   "source": [
    "df_train=train_feats(df_train)\n",
    "df_test=train_feats(df_test)\n",
    "\n",
    "for f in ['feature_1','feature_2','feature_3']:\n",
    "    order_label = df_train.groupby([f])['outliers'].mean()\n",
    "    df_train[f] = df_train[f].map(order_label)\n",
    "    df_test[f] = df_test[f].map(order_label)\n",
    "for f in ['feature_1','feature_2','feature_3']:\n",
    "    df_train[f+'c']=df_train.groupby(f)['card_id'].transform('count')\n",
    "    df_test[f+'c']=df_test.groupby(f)['card_id'].transform('count')"
   ]
  },
  {
   "cell_type": "code",
   "execution_count": 16,
   "metadata": {
    "_uuid": "95e18f9a9e07d07730ab93f39e5fc6bcc819e9e8"
   },
   "outputs": [],
   "source": [
    "df_train_columns=[]\n",
    "df_train_columns = [c for c in df_train.columns if c not in ['card_id', 'first_active_month','target','outliers']]\n",
    "# target = df_train['target']\n",
    "# del df_train['target']"
   ]
  },
  {
   "cell_type": "code",
   "execution_count": 17,
   "metadata": {
    "_uuid": "5b931c13130664da23e3b82ce74544680ce03b3b"
   },
   "outputs": [
    {
     "data": {
      "text/plain": [
       "142"
      ]
     },
     "execution_count": 17,
     "metadata": {},
     "output_type": "execute_result"
    }
   ],
   "source": [
    "\n",
    "len(df_train_columns)"
   ]
  },
  {
   "cell_type": "code",
   "execution_count": null,
   "metadata": {
    "_uuid": "dfd6a68bbf6009ce1467b8a719bcdfe33b598c4a"
   },
   "outputs": [],
   "source": [
    "df_train_columns=['hist_month_diff_mean',\n",
    " 'new_hist_purchase_amount_max',\n",
    " 'hist_authorized_flag_mean',\n",
    " 'hist_category_1_sum',\n",
    " 'new_hist_weekofyear_mean',\n",
    " 'new_hist_day_mean',\n",
    " 'hist_purchase_amount_median',\n",
    " 'new_hist_month_lag_mean',\n",
    " 'new_hist_purchase_amount_mean',\n",
    " 'hist_category_1_mean',\n",
    " 'hist_month_nunique',\n",
    " 'hist_purchase_date_min',\n",
    " 'new_hist_purchase_date_uptonow',\n",
    " 'hist_time_differ_mean',\n",
    " 'hist_purchase_date_max',\n",
    " 'new_hist_hour_mean',\n",
    " 'hist_hour_mean',\n",
    " 'hist_first_buy',\n",
    " 'hist_merchant_id_nunique',\n",
    " 'hist_month_diff_std',\n",
    " 'new_hist_purchase_date_diff',\n",
    " 'new_hist_purchase_amount_var',\n",
    " 'hist_purchase_amount_min',\n",
    " 'new_hist_month_mean',\n",
    " 'new_hist_time_differ_mean',\n",
    " 'hist_purchase_date_diff',\n",
    " 'hist_purchase_amount_mean',\n",
    " 'new_hist_category_1_mean',\n",
    " 'hist_val_day_mean',\n",
    " 'hist_purchase_amount_max',\n",
    " 'hist_weekofyear_nunique',\n",
    " 'hist_month_lag_var',\n",
    " 'new_hist_purchase_date_average',\n",
    " 'hist_dayofweek_mean',\n",
    " 'new_hist_time_differ_max',\n",
    " 'hist_month_lag_mean',\n",
    " 'hist_purchase_date_uptonow',\n",
    " 'hist_installments_sum',\n",
    " 'hist_3div_day_mean',\n",
    " 'hist_purchase_date_average',\n",
    " 'hist_category_2_mean_mean',\n",
    " #'hist_time_differ_min',\n",
    " 'hist_purchase_amount_var',\n",
    " 'new_hist_purchase_amount_min',\n",
    " 'hist_time_differ_max',\n",
    " 'hist_month_lag_period_mean',\n",
    " 'new_hist_time_differ_min',\n",
    " 'hist_weekend_mean',\n",
    " 'hist_day_mean',\n",
    " 'new_hist_purchase_amount_median',\n",
    " 'hist_category_3_sum',\n",
    " 'new_hist_first_buy',\n",
    " 'hist_category_3_mean_mean',\n",
    " 'elapsed_time',\n",
    " 'hist_month_lag_period_sum',\n",
    " #'hist_state_count_mean',\n",
    " 'hist_time_differ_diff',\n",
    " 'new_hist_purchase_date_max',\n",
    " 'hist_merchant_category_id_nunique',\n",
    " 'hist_installments_std',\n",
    " 'hist_purchase_amount_sum',\n",
    " 'new_hist_purchase_amount_sum',\n",
    " 'new_hist_category_1_sum',\n",
    " #'hist_is_install_sum',\n",
    " 'hist_category_3_mean',\n",
    " 'hist_val_day_2018_mean',\n",
    " 'hist_season_sum',\n",
    " 'hist_installments_mean',\n",
    " 'new_hist_dayofweek_mean',\n",
    " 'hist_3div_day_sum']\n",
    " #'hist_category_2_sum'\n",
    " #'hist_category_2_mean']\n",
    "\n",
    "len(df_train_columns)"
   ]
  },
  {
   "cell_type": "code",
   "execution_count": null,
   "metadata": {
    "_uuid": "092464da4c47fb8e283ecbab6f387edec919f38c"
   },
   "outputs": [],
   "source": [
    "df_train.to_csv(\"ReadytrainData.csv\", index=False)\n",
    "df_test.to_csv(\"ReadytestData.csv\", index=False)"
   ]
  }
 ],
 "metadata": {
  "kernelspec": {
   "display_name": "Python 3",
   "language": "python",
   "name": "python3"
  },
  "language_info": {
   "codemirror_mode": {
    "name": "ipython",
    "version": 3
   },
   "file_extension": ".py",
   "mimetype": "text/x-python",
   "name": "python",
   "nbconvert_exporter": "python",
   "pygments_lexer": "ipython3",
   "version": "3.6.7"
  }
 },
 "nbformat": 4,
 "nbformat_minor": 1
}
